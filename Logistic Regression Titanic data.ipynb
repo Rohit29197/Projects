{
 "cells": [
  {
   "cell_type": "code",
   "execution_count": 13,
   "metadata": {},
   "outputs": [],
   "source": [
    "import numpy as np\n",
    "import pandas as pd\n",
    "from sklearn.linear_model import LogisticRegression"
   ]
  },
  {
   "cell_type": "code",
   "execution_count": 14,
   "metadata": {},
   "outputs": [],
   "source": [
    "def f(s):\n",
    "    if s=='male':\n",
    "        return 1\n",
    "    else:\n",
    "        return 0"
   ]
  },
  {
   "cell_type": "code",
   "execution_count": 43,
   "metadata": {},
   "outputs": [
    {
     "name": "stderr",
     "output_type": "stream",
     "text": [
      "C:\\Users\\Rohit\\Anaconda3\\lib\\site-packages\\sklearn\\preprocessing\\data.py:334: DataConversionWarning: Data with input dtype int64, float64 were all converted to float64 by MinMaxScaler.\n",
      "  return self.partial_fit(X, y)\n"
     ]
    }
   ],
   "source": [
    "data=pd.read_csv('training_titanic_x_y_train.csv',delimiter=',',skipinitialspace=True)\n",
    "\n",
    "train_data=pd.DataFrame(data)\n",
    "train_data.Age.fillna(train_data.Age.mean(),inplace=True)\n",
    "train_data.drop(\"Cabin\",inplace=True,axis=1)\n",
    "y_survival=train_data[\"Survived\"]\n",
    "train_data.drop(\"Survived\",inplace=True,axis=1)\n",
    "train_data['Gender']=train_data.Sex.apply(f)\n",
    "train_data.drop(\"Sex\",inplace=True,axis=1)\n",
    "#train_data['new']=train_data['Pclass']**2\n",
    "train_data['new1']=train_data['Fare']**2\n",
    "train_data[\"Survived\"]=y_survival\n",
    "train_data.drop(\"Ticket\",inplace=True,axis=1)\n",
    "train_data.drop(\"Name\",inplace=True,axis=1)\n",
    "train_data.drop(\"Embarked\",inplace=True,axis=1)\n",
    "\n",
    "from sklearn import preprocessing\n",
    "scaler=preprocessing.MinMaxScaler()\n",
    "\n",
    "train_data=scaler.fit_transform(train_data)\n",
    "\n",
    "#test_data.swapaxes(\"Gender\",\"Survived\",copy=True)\n",
    "#print(train_data.describe)\n"
   ]
  },
  {
   "cell_type": "code",
   "execution_count": 56,
   "metadata": {},
   "outputs": [
    {
     "data": {
      "text/plain": [
       "LogisticRegression(C=0.3, class_weight=None, dual=False, fit_intercept=True,\n",
       "          intercept_scaling=1, max_iter=1000, multi_class='multinomial',\n",
       "          n_jobs=None, penalty='l2', random_state=None, solver='sag',\n",
       "          tol=0.0001, verbose=0, warm_start=False)"
      ]
     },
     "execution_count": 56,
     "metadata": {},
     "output_type": "execute_result"
    }
   ],
   "source": [
    "alg=LogisticRegression(multi_class='multinomial',max_iter=1000,solver='sag',C=0.1,penalty='l2')\n",
    "alg.fit(train_data[:,:7],train_data[:,7])"
   ]
  },
  {
   "cell_type": "code",
   "execution_count": 57,
   "metadata": {},
   "outputs": [
    {
     "data": {
      "text/plain": [
       "0.7874251497005988"
      ]
     },
     "execution_count": 57,
     "metadata": {},
     "output_type": "execute_result"
    }
   ],
   "source": [
    "alg.score(train_data[:,0:7],train_data[:,7])"
   ]
  },
  {
   "cell_type": "code",
   "execution_count": 6,
   "metadata": {},
   "outputs": [
    {
     "name": "stdout",
     "output_type": "stream",
     "text": [
      "Index(['Pclass', 'Age', 'SibSp', 'Parch', 'Fare', 'Gender'], dtype='object')\n"
     ]
    }
   ],
   "source": [
    "x_test=pd.read_csv('test_titanic_x_test.csv',delimiter=',',skipinitialspace=True)\n",
    "test_data=pd.DataFrame(x_test)\n",
    "test_data.Age.fillna(test_data.Age.mean(),inplace=True)\n",
    "test_data.drop(\"Cabin\",inplace=True,axis=1)\n",
    "test_data['Gender']=test_data.Sex.apply(f)\n",
    "test_data.drop(\"Ticket\",inplace=True,axis=1)\n",
    "test_data.drop(\"Name\",inplace=True,axis=1)\n",
    "test_data.drop(\"Embarked\",inplace=True,axis=1)\n",
    "test_data.drop(\"Sex\",inplace=True,axis=1)\n",
    "print(test_data.columns)\n"
   ]
  },
  {
   "cell_type": "code",
   "execution_count": 7,
   "metadata": {},
   "outputs": [],
   "source": [
    "y_predict=alg.predict(test_data)\n",
    "np.savetxt('logistic regression assignment  predictions.csv',y_predict,fmt='%.5f',delimiter=',')"
   ]
  },
  {
   "cell_type": "code",
   "execution_count": 8,
   "metadata": {},
   "outputs": [
    {
     "data": {
      "text/html": [
       "<div>\n",
       "<style scoped>\n",
       "    .dataframe tbody tr th:only-of-type {\n",
       "        vertical-align: middle;\n",
       "    }\n",
       "\n",
       "    .dataframe tbody tr th {\n",
       "        vertical-align: top;\n",
       "    }\n",
       "\n",
       "    .dataframe thead th {\n",
       "        text-align: right;\n",
       "    }\n",
       "</style>\n",
       "<table border=\"1\" class=\"dataframe\">\n",
       "  <thead>\n",
       "    <tr style=\"text-align: right;\">\n",
       "      <th></th>\n",
       "      <th>Pclass</th>\n",
       "      <th>Age</th>\n",
       "      <th>SibSp</th>\n",
       "      <th>Parch</th>\n",
       "      <th>Fare</th>\n",
       "      <th>Survived</th>\n",
       "    </tr>\n",
       "  </thead>\n",
       "  <tbody>\n",
       "    <tr>\n",
       "      <th>Pclass</th>\n",
       "      <td>1.000000</td>\n",
       "      <td>-0.320091</td>\n",
       "      <td>0.077376</td>\n",
       "      <td>0.040872</td>\n",
       "      <td>-0.580998</td>\n",
       "      <td>-0.340616</td>\n",
       "    </tr>\n",
       "    <tr>\n",
       "      <th>Age</th>\n",
       "      <td>-0.320091</td>\n",
       "      <td>1.000000</td>\n",
       "      <td>-0.302899</td>\n",
       "      <td>-0.150981</td>\n",
       "      <td>0.098690</td>\n",
       "      <td>-0.094487</td>\n",
       "    </tr>\n",
       "    <tr>\n",
       "      <th>SibSp</th>\n",
       "      <td>0.077376</td>\n",
       "      <td>-0.302899</td>\n",
       "      <td>1.000000</td>\n",
       "      <td>0.377128</td>\n",
       "      <td>0.172449</td>\n",
       "      <td>-0.028703</td>\n",
       "    </tr>\n",
       "    <tr>\n",
       "      <th>Parch</th>\n",
       "      <td>0.040872</td>\n",
       "      <td>-0.150981</td>\n",
       "      <td>0.377128</td>\n",
       "      <td>1.000000</td>\n",
       "      <td>0.197261</td>\n",
       "      <td>0.062427</td>\n",
       "    </tr>\n",
       "    <tr>\n",
       "      <th>Fare</th>\n",
       "      <td>-0.580998</td>\n",
       "      <td>0.098690</td>\n",
       "      <td>0.172449</td>\n",
       "      <td>0.197261</td>\n",
       "      <td>1.000000</td>\n",
       "      <td>0.244758</td>\n",
       "    </tr>\n",
       "    <tr>\n",
       "      <th>Survived</th>\n",
       "      <td>-0.340616</td>\n",
       "      <td>-0.094487</td>\n",
       "      <td>-0.028703</td>\n",
       "      <td>0.062427</td>\n",
       "      <td>0.244758</td>\n",
       "      <td>1.000000</td>\n",
       "    </tr>\n",
       "  </tbody>\n",
       "</table>\n",
       "</div>"
      ],
      "text/plain": [
       "            Pclass       Age     SibSp     Parch      Fare  Survived\n",
       "Pclass    1.000000 -0.320091  0.077376  0.040872 -0.580998 -0.340616\n",
       "Age      -0.320091  1.000000 -0.302899 -0.150981  0.098690 -0.094487\n",
       "SibSp     0.077376 -0.302899  1.000000  0.377128  0.172449 -0.028703\n",
       "Parch     0.040872 -0.150981  0.377128  1.000000  0.197261  0.062427\n",
       "Fare     -0.580998  0.098690  0.172449  0.197261  1.000000  0.244758\n",
       "Survived -0.340616 -0.094487 -0.028703  0.062427  0.244758  1.000000"
      ]
     },
     "execution_count": 8,
     "metadata": {},
     "output_type": "execute_result"
    }
   ],
   "source": [
    "data=pd.read_csv('training_titanic_x_y_train.csv',delimiter=',',skipinitialspace=True)\n",
    "data.corr()"
   ]
  },
  {
   "cell_type": "code",
   "execution_count": null,
   "metadata": {},
   "outputs": [],
   "source": []
  }
 ],
 "metadata": {
  "kernelspec": {
   "display_name": "Python 3",
   "language": "python",
   "name": "python3"
  },
  "language_info": {
   "codemirror_mode": {
    "name": "ipython",
    "version": 3
   },
   "file_extension": ".py",
   "mimetype": "text/x-python",
   "name": "python",
   "nbconvert_exporter": "python",
   "pygments_lexer": "ipython3",
   "version": "3.7.3"
  }
 },
 "nbformat": 4,
 "nbformat_minor": 2
}
