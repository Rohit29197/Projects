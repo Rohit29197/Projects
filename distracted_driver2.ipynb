{
 "cells": [
  {
   "cell_type": "code",
   "execution_count": 1,
   "metadata": {},
   "outputs": [],
   "source": [
    "import os\n",
    "import random\n",
    "import pandas as pd\n",
    "import numpy as np\n",
    "data={}\n"
   ]
  },
  {
   "cell_type": "code",
   "execution_count": 2,
   "metadata": {},
   "outputs": [
    {
     "data": {
      "text/html": [
       "<div>\n",
       "<style scoped>\n",
       "    .dataframe tbody tr th:only-of-type {\n",
       "        vertical-align: middle;\n",
       "    }\n",
       "\n",
       "    .dataframe tbody tr th {\n",
       "        vertical-align: top;\n",
       "    }\n",
       "\n",
       "    .dataframe thead th {\n",
       "        text-align: right;\n",
       "    }\n",
       "</style>\n",
       "<table border=\"1\" class=\"dataframe\">\n",
       "  <thead>\n",
       "    <tr style=\"text-align: right;\">\n",
       "      <th></th>\n",
       "      <th>subject</th>\n",
       "      <th>classname</th>\n",
       "      <th>img</th>\n",
       "    </tr>\n",
       "  </thead>\n",
       "  <tbody>\n",
       "    <tr>\n",
       "      <th>1834</th>\n",
       "      <td>p014</td>\n",
       "      <td>c2</td>\n",
       "      <td>img_40126.jpg</td>\n",
       "    </tr>\n",
       "    <tr>\n",
       "      <th>17715</th>\n",
       "      <td>p056</td>\n",
       "      <td>c9</td>\n",
       "      <td>img_20408.jpg</td>\n",
       "    </tr>\n",
       "    <tr>\n",
       "      <th>19668</th>\n",
       "      <td>p066</td>\n",
       "      <td>c2</td>\n",
       "      <td>img_28983.jpg</td>\n",
       "    </tr>\n",
       "    <tr>\n",
       "      <th>6150</th>\n",
       "      <td>p022</td>\n",
       "      <td>c4</td>\n",
       "      <td>img_28447.jpg</td>\n",
       "    </tr>\n",
       "    <tr>\n",
       "      <th>18314</th>\n",
       "      <td>p061</td>\n",
       "      <td>c6</td>\n",
       "      <td>img_20636.jpg</td>\n",
       "    </tr>\n",
       "    <tr>\n",
       "      <th>...</th>\n",
       "      <td>...</td>\n",
       "      <td>...</td>\n",
       "      <td>...</td>\n",
       "    </tr>\n",
       "    <tr>\n",
       "      <th>8589</th>\n",
       "      <td>p026</td>\n",
       "      <td>c3</td>\n",
       "      <td>img_57834.jpg</td>\n",
       "    </tr>\n",
       "    <tr>\n",
       "      <th>15000</th>\n",
       "      <td>p050</td>\n",
       "      <td>c5</td>\n",
       "      <td>img_52243.jpg</td>\n",
       "    </tr>\n",
       "    <tr>\n",
       "      <th>10795</th>\n",
       "      <td>p041</td>\n",
       "      <td>c0</td>\n",
       "      <td>img_97738.jpg</td>\n",
       "    </tr>\n",
       "    <tr>\n",
       "      <th>20653</th>\n",
       "      <td>p072</td>\n",
       "      <td>c4</td>\n",
       "      <td>img_9466.jpg</td>\n",
       "    </tr>\n",
       "    <tr>\n",
       "      <th>10450</th>\n",
       "      <td>p039</td>\n",
       "      <td>c5</td>\n",
       "      <td>img_58506.jpg</td>\n",
       "    </tr>\n",
       "  </tbody>\n",
       "</table>\n",
       "<p>22424 rows × 3 columns</p>\n",
       "</div>"
      ],
      "text/plain": [
       "      subject classname            img\n",
       "1834     p014        c2  img_40126.jpg\n",
       "17715    p056        c9  img_20408.jpg\n",
       "19668    p066        c2  img_28983.jpg\n",
       "6150     p022        c4  img_28447.jpg\n",
       "18314    p061        c6  img_20636.jpg\n",
       "...       ...       ...            ...\n",
       "8589     p026        c3  img_57834.jpg\n",
       "15000    p050        c5  img_52243.jpg\n",
       "10795    p041        c0  img_97738.jpg\n",
       "20653    p072        c4   img_9466.jpg\n",
       "10450    p039        c5  img_58506.jpg\n",
       "\n",
       "[22424 rows x 3 columns]"
      ]
     },
     "execution_count": 2,
     "metadata": {},
     "output_type": "execute_result"
    }
   ],
   "source": [
    "df=pd.read_csv(r\"C:\\Users\\hrith\\Desktop\\driver_imgs_list.csv\")\n",
    "df1=df.sample(frac=1)\n",
    "df1"
   ]
  },
  {
   "cell_type": "code",
   "execution_count": 3,
   "metadata": {},
   "outputs": [
    {
     "data": {
      "text/plain": [
       "array(['c0', 'c1', 'c2', 'c3', 'c4', 'c5', 'c6', 'c7', 'c8', 'c9'],\n",
       "      dtype=object)"
      ]
     },
     "execution_count": 3,
     "metadata": {},
     "output_type": "execute_result"
    }
   ],
   "source": [
    "import numpy as np\n",
    "emotion_list=np.unique(np.array(df1.classname))\n",
    "emotion_list\n"
   ]
  },
  {
   "cell_type": "code",
   "execution_count": 4,
   "metadata": {},
   "outputs": [],
   "source": [
    "os.mkdir(\"/masterdata\")\n",
    "os.mkdir(\"/masterdata/training\")\n",
    "os.mkdir(\"/masterdata/testing\")\n",
    "    "
   ]
  },
  {
   "cell_type": "code",
   "execution_count": 14,
   "metadata": {},
   "outputs": [],
   "source": [
    "split_size=0.8\n",
    "train_size=int(split_size*len(df1))\n",
    "train_data=np.array((df1.classname[:train_size],df1.img[:train_size]))\n",
    "test_data=np.array((df1.classname[train_size:],df1.img[train_size:]))"
   ]
  },
  {
   "cell_type": "code",
   "execution_count": 15,
   "metadata": {},
   "outputs": [],
   "source": [
    "from shutil import copyfile\n",
    "for j in range(len(train_images[0])):\n",
    "        source=os.path.join(r\"C:\\Users\\hrith\\Desktop\\imgs\\train\",train_data[0][j],train_data[1][j])\n",
    "        dest=os.path.join(r\"/masterdata/training/\",train_data[0][j],train_data[1][j])\n",
    "        copyfile(source,dest)\n",
    "for j in range(len(test_images[0])):\n",
    "        source=os.path.join(r\"C:\\Users\\hrith\\Desktop\\imgs\\train\",test_data[0][j],test_data[1][j])\n",
    "        dest=os.path.join(r\"/masterdata/testing/\",test_data[0][j],test_data[1][j])\n",
    "        copyfile(source,dest)"
   ]
  },
  {
   "cell_type": "code",
   "execution_count": 16,
   "metadata": {},
   "outputs": [],
   "source": [
    "import tensorflow as tf\n",
    "from tensorflow.keras.preprocessing.image import ImageDataGenerator\n",
    "from tensorflow.keras.optimizers import Adam\n",
    "from tensorflow.keras.callbacks import EarlyStopping\n",
    "from tensorflow.keras.layers import Conv2D,MaxPooling2D,Dense,Flatten,Dropout"
   ]
  },
  {
   "cell_type": "code",
   "execution_count": 17,
   "metadata": {},
   "outputs": [
    {
     "name": "stdout",
     "output_type": "stream",
     "text": [
      "Model: \"sequential\"\n",
      "_________________________________________________________________\n",
      "Layer (type)                 Output Shape              Param #   \n",
      "=================================================================\n",
      "conv2d (Conv2D)              (None, 63, 63, 128)       1664      \n",
      "_________________________________________________________________\n",
      "max_pooling2d (MaxPooling2D) (None, 31, 31, 128)       0         \n",
      "_________________________________________________________________\n",
      "conv2d_1 (Conv2D)            (None, 30, 30, 256)       131328    \n",
      "_________________________________________________________________\n",
      "max_pooling2d_1 (MaxPooling2 (None, 15, 15, 256)       0         \n",
      "_________________________________________________________________\n",
      "conv2d_2 (Conv2D)            (None, 14, 14, 512)       524800    \n",
      "_________________________________________________________________\n",
      "max_pooling2d_2 (MaxPooling2 (None, 7, 7, 512)         0         \n",
      "_________________________________________________________________\n",
      "conv2d_3 (Conv2D)            (None, 6, 6, 1024)        2098176   \n",
      "_________________________________________________________________\n",
      "max_pooling2d_3 (MaxPooling2 (None, 3, 3, 1024)        0         \n",
      "_________________________________________________________________\n",
      "dropout (Dropout)            (None, 3, 3, 1024)        0         \n",
      "_________________________________________________________________\n",
      "flatten (Flatten)            (None, 9216)              0         \n",
      "_________________________________________________________________\n",
      "dense (Dense)                (None, 1024)              9438208   \n",
      "_________________________________________________________________\n",
      "dropout_1 (Dropout)          (None, 1024)              0         \n",
      "_________________________________________________________________\n",
      "dense_1 (Dense)              (None, 10)                10250     \n",
      "=================================================================\n",
      "Total params: 12,204,426\n",
      "Trainable params: 12,204,426\n",
      "Non-trainable params: 0\n",
      "_________________________________________________________________\n"
     ]
    }
   ],
   "source": [
    "model=tf.keras.models.Sequential([\n",
    "\n",
    "Conv2D(128,(2,2),activation='relu', input_shape=(64,64,3)),\n",
    "MaxPooling2D(2,2),\n",
    "Conv2D(256,(2,2),activation='relu'),\n",
    "MaxPooling2D(2,2),\n",
    "Conv2D(512,(2,2), activation='relu'),\n",
    "MaxPooling2D(2,2),\n",
    "Conv2D(1024,(2,2),activation='relu'),\n",
    "MaxPooling2D(2,2),\n",
    "Dropout(0.5),\n",
    "Flatten(),\n",
    "Dense(1024, activation='relu'),\n",
    "Dropout(0.5),\n",
    "Dense(10, activation='softmax')\n",
    "])\n",
    "  \n",
    "\n",
    "\n",
    "model.summary()"
   ]
  },
  {
   "cell_type": "code",
   "execution_count": 18,
   "metadata": {},
   "outputs": [
    {
     "name": "stdout",
     "output_type": "stream",
     "text": [
      "Model: \"sequential\"\n",
      "_________________________________________________________________\n",
      "Layer (type)                 Output Shape              Param #   \n",
      "=================================================================\n",
      "conv2d (Conv2D)              (None, 63, 63, 128)       1664      \n",
      "_________________________________________________________________\n",
      "max_pooling2d (MaxPooling2D) (None, 31, 31, 128)       0         \n",
      "_________________________________________________________________\n",
      "conv2d_1 (Conv2D)            (None, 30, 30, 256)       131328    \n",
      "_________________________________________________________________\n",
      "max_pooling2d_1 (MaxPooling2 (None, 15, 15, 256)       0         \n",
      "_________________________________________________________________\n",
      "conv2d_2 (Conv2D)            (None, 14, 14, 512)       524800    \n",
      "_________________________________________________________________\n",
      "max_pooling2d_2 (MaxPooling2 (None, 7, 7, 512)         0         \n",
      "_________________________________________________________________\n",
      "conv2d_3 (Conv2D)            (None, 6, 6, 1024)        2098176   \n",
      "_________________________________________________________________\n",
      "max_pooling2d_3 (MaxPooling2 (None, 3, 3, 1024)        0         \n",
      "_________________________________________________________________\n",
      "dropout (Dropout)            (None, 3, 3, 1024)        0         \n",
      "_________________________________________________________________\n",
      "flatten (Flatten)            (None, 9216)              0         \n",
      "_________________________________________________________________\n",
      "dense (Dense)                (None, 1024)              9438208   \n",
      "_________________________________________________________________\n",
      "dropout_1 (Dropout)          (None, 1024)              0         \n",
      "_________________________________________________________________\n",
      "dense_1 (Dense)              (None, 10)                10250     \n",
      "=================================================================\n",
      "Total params: 12,204,426\n",
      "Trainable params: 12,204,426\n",
      "Non-trainable params: 0\n",
      "_________________________________________________________________\n"
     ]
    }
   ],
   "source": [
    "model.compile(optimizer=\"Adam\",loss=\"categorical_crossentropy\",metrics=(\"acc\"))\n",
    "model.summary()"
   ]
  },
  {
   "cell_type": "code",
   "execution_count": 19,
   "metadata": {},
   "outputs": [
    {
     "name": "stdout",
     "output_type": "stream",
     "text": [
      "Found 17939 images belonging to 10 classes.\n",
      "Found 4485 images belonging to 10 classes.\n"
     ]
    }
   ],
   "source": [
    "train_dir=(\"/masterdata/training/\")\n",
    "test_dir=(\"/masterdata/testing/\")\n",
    "train_datagen=ImageDataGenerator(rescale=1.0/255)\n",
    "train_generator=train_datagen.flow_from_directory(train_dir,\n",
    "                                                 target_size=(64,64),\n",
    "                                                 class_mode=\"categorical\",\n",
    "                                                 batch_size=40\n",
    "                                                 )\n",
    "\n",
    "test_datagen=ImageDataGenerator(rescale=1.0/255)\n",
    "test_generator=test_datagen.flow_from_directory(test_dir,\n",
    "                                                target_size=(64,64),\n",
    "                                                class_mode=\"categorical\",\n",
    "                                                batch_size=40\n",
    "                                                 )"
   ]
  },
  {
   "cell_type": "code",
   "execution_count": 20,
   "metadata": {},
   "outputs": [],
   "source": [
    "es=EarlyStopping(monitor=\"val_acc\",patience=2,min_delta=0.01)"
   ]
  },
  {
   "cell_type": "code",
   "execution_count": 21,
   "metadata": {},
   "outputs": [
    {
     "name": "stdout",
     "output_type": "stream",
     "text": [
      "Epoch 1/25\n",
      "449/449 [==============================] - 487s 1s/step - loss: 1.3564 - acc: 0.5006 - val_loss: 0.2668 - val_acc: 0.9249\n",
      "Epoch 2/25\n",
      "449/449 [==============================] - 487s 1s/step - loss: 0.2386 - acc: 0.9270 - val_loss: 0.0858 - val_acc: 0.9744\n",
      "Epoch 3/25\n",
      "449/449 [==============================] - 487s 1s/step - loss: 0.1139 - acc: 0.9663 - val_loss: 0.0502 - val_acc: 0.9857\n",
      "Epoch 4/25\n",
      "449/449 [==============================] - 489s 1s/step - loss: 0.0758 - acc: 0.9773 - val_loss: 0.0472 - val_acc: 0.9882\n",
      "Epoch 5/25\n",
      "449/449 [==============================] - 494s 1s/step - loss: 0.0550 - acc: 0.9824 - val_loss: 0.0494 - val_acc: 0.9886\n"
     ]
    },
    {
     "data": {
      "text/plain": [
       "<tensorflow.python.keras.callbacks.History at 0x235e349ad08>"
      ]
     },
     "execution_count": 21,
     "metadata": {},
     "output_type": "execute_result"
    }
   ],
   "source": [
    "model.fit(train_generator,epochs=25,verbose=1,validation_data=test_generator,shuffle=True,callbacks=[es])"
   ]
  },
  {
   "cell_type": "code",
   "execution_count": null,
   "metadata": {},
   "outputs": [],
   "source": []
  },
  {
   "cell_type": "code",
   "execution_count": null,
   "metadata": {},
   "outputs": [],
   "source": []
  },
  {
   "cell_type": "code",
   "execution_count": null,
   "metadata": {},
   "outputs": [],
   "source": []
  },
  {
   "cell_type": "code",
   "execution_count": null,
   "metadata": {},
   "outputs": [],
   "source": []
  }
 ],
 "metadata": {
  "kernelspec": {
   "display_name": "Python 3",
   "language": "python",
   "name": "python3"
  },
  "language_info": {
   "codemirror_mode": {
    "name": "ipython",
    "version": 3
   },
   "file_extension": ".py",
   "mimetype": "text/x-python",
   "name": "python",
   "nbconvert_exporter": "python",
   "pygments_lexer": "ipython3",
   "version": "3.7.3"
  }
 },
 "nbformat": 4,
 "nbformat_minor": 4
}
